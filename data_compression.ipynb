{
 "cells": [
  {
   "cell_type": "code",
   "execution_count": 4,
   "id": "85c5db60",
   "metadata": {},
   "outputs": [],
   "source": [
    "import pandas as pd\n",
    "import numpy as np\n",
    "\n",
    "# Read the CSV\n",
    "df = pd.read_csv(\"raw_data/nfet_28nm_10u.csv\")\n",
    "\n",
    "# Convert DataFrame columns to a dictionary of arrays\n",
    "arrays = {col: df[col].to_numpy(dtype=np.float32) for col in df.columns}\n",
    "\n",
    "# Save as compressed npz\n",
    "np.savez_compressed(\"compressed_data/nfet_28nm_10u.csv\", **arrays)"
   ]
  },
  {
   "cell_type": "code",
   "execution_count": null,
   "id": "d76a5756",
   "metadata": {},
   "outputs": [],
   "source": []
  }
 ],
 "metadata": {
  "kernelspec": {
   "display_name": "Python 3",
   "language": "python",
   "name": "python3"
  },
  "language_info": {
   "codemirror_mode": {
    "name": "ipython",
    "version": 3
   },
   "file_extension": ".py",
   "mimetype": "text/x-python",
   "name": "python",
   "nbconvert_exporter": "python",
   "pygments_lexer": "ipython3",
   "version": "3.11.9"
  }
 },
 "nbformat": 4,
 "nbformat_minor": 5
}
