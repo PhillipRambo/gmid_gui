{
 "cells": [
  {
   "cell_type": "code",
   "execution_count": 1,
   "id": "802ac22c",
   "metadata": {},
   "outputs": [],
   "source": [
    "from gmid_gui import plot_data_vs_data\n",
    "from gmid_gui import extract_all_data\n",
    "import pandas as pd\n",
    "import numpy as np\n",
    "\n",
    "loaded = np.load(\"compressed_data/nfet_28nm_10u.csv.npz\")\n",
    "df = pd.DataFrame({k: loaded[k] for k in loaded})\n",
    "data = extract_all_data(df, vds=0.8, vgs_interval=(0.1,0.7))"
   ]
  },
  {
   "cell_type": "code",
   "execution_count": 2,
   "id": "5f73fa97",
   "metadata": {},
   "outputs": [
    {
     "data": {
      "text/plain": [
       "dict_keys(['vds', 'N0:cgg', 'N0:cgs', 'N0:gds', 'N0:gm', 'N0:gmbs', 'N0:id', 'N0:ids', 'N0:ron', 'N0:rout', 'N0:vds', 'N0:vdssat', 'N0:vgd', 'N0:vgs', 'N0:vsb', 'N0:vth', 'lengths', 'vgs'])"
      ]
     },
     "execution_count": 2,
     "metadata": {},
     "output_type": "execute_result"
    }
   ],
   "source": [
    "data.keys()"
   ]
  },
  {
   "cell_type": "code",
   "execution_count": null,
   "id": "ba37caed",
   "metadata": {},
   "outputs": [
    {
     "data": {
      "application/vnd.jupyter.widget-view+json": {
       "model_id": "979e2903680c4d54ba155d1d790ee1c7",
       "version_major": 2,
       "version_minor": 0
      },
      "text/plain": [
       "VBox(children=(Dropdown(description='Length:', layout=Layout(width='500px'), options=('Show All', '0.03 μm', '…"
      ]
     },
     "metadata": {},
     "output_type": "display_data"
    }
   ],
   "source": [
    "from gmid_gui import plot_data_vs_data\n",
    "\n",
    "id_values = data['N0:ids']\n",
    "gm_values = data['N0:gm']\n",
    "gds_values = data['N0:gds']\n",
    "vgs_values= data['vgs']\n",
    "length = data['lengths']\n",
    "plot_data_vs_data(gm_values/id_values, gm_values/gds_values, vgs_values, length, 'gm/id', 'gm/gds')"
   ]
  },
  {
   "cell_type": "code",
   "execution_count": null,
   "id": "7f99efb6",
   "metadata": {},
   "outputs": [],
   "source": []
  },
  {
   "cell_type": "code",
   "execution_count": null,
   "id": "e67fd4b1",
   "metadata": {},
   "outputs": [],
   "source": []
  }
 ],
 "metadata": {
  "kernelspec": {
   "display_name": "Python 3",
   "language": "python",
   "name": "python3"
  },
  "language_info": {
   "codemirror_mode": {
    "name": "ipython",
    "version": 3
   },
   "file_extension": ".py",
   "mimetype": "text/x-python",
   "name": "python",
   "nbconvert_exporter": "python",
   "pygments_lexer": "ipython3",
   "version": "3.11.9"
  }
 },
 "nbformat": 4,
 "nbformat_minor": 5
}
